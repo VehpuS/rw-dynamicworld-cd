{
 "cells": [
  {
   "cell_type": "code",
   "execution_count": 1,
   "metadata": {},
   "outputs": [],
   "source": [
    "#Import necessary libraries\n",
    "import os\n",
    "import ee\n",
    "import geemap\n",
    "import ipyleaflet\n",
    "import matplotlib.pyplot as plt\n",
    "import numpy as np\n",
    "import sklearn\n",
    "import statsmodels.api as sm\n",
    "import pandas as pd\n",
    "from IPython.display import HTML, display\n",
    "import random\n",
    "import json\n",
    "import time\n",
    "num_seed=30\n",
    "random.seed(num_seed)"
   ]
  },
  {
   "cell_type": "code",
   "execution_count": 2,
   "metadata": {},
   "outputs": [],
   "source": [
    "#Initialize earth engine\n",
    "ee.Initialize()\n"
   ]
  },
  {
   "cell_type": "code",
   "execution_count": 3,
   "metadata": {},
   "outputs": [
    {
     "data": {
      "application/vnd.jupyter.widget-view+json": {
       "model_id": "4793e34446af460683eea4901240091c",
       "version_major": 2,
       "version_minor": 0
      },
      "text/plain": [
       "Map(center=[-9, -51], controls=(WidgetControl(options=['position'], widget=HBox(children=(ToggleButton(value=F…"
      ]
     },
     "metadata": {},
     "output_type": "display_data"
    }
   ],
   "source": [
    "#Define functions for mapping MapBiomas and simplifying the legend\n",
    "coverage_palette =  ['ffffff', '129912', '1f4423', '006400', '00ff00', '687537', '76a5af', '29eee4', \n",
    "                     '77a605', '935132', 'bbfcac', '45c2a5', 'b8af4f', 'f1c232', 'ffffb2', 'ffd966', \n",
    "                     'f6b26b', 'f99f40', 'e974ed', 'd5a6bd', 'c27ba0', 'fff3bf', 'ea9999', 'dd7e6b', \n",
    "                     'aa0000', 'ff99ff', '0000ff', 'd5d5e5', 'dd497f', 'b2ae7c', 'af2a2a', '8a2be2', \n",
    "                     '968c46', '0000ff', '4fd3ff']\n",
    "\n",
    "\n",
    "simple_palette = ['129912','BBFCAC','FFFFB2','EA9999','0000FF','D5D5E5']\n",
    "statesViz = {'min': 0, 'max': 34, 'palette': coverage_palette};\n",
    "simpleStatesViz = {'min': 1, 'max': 6, 'palette': simple_palette};\n",
    "\n",
    "change_detection_palette = ['df07b5','0741df']\n",
    "changeDetectionViz = {'min': 0, 'max': 1, 'palette': change_detection_palette};\n",
    "\n",
    "#Load in mapbiomas\n",
    "mapbiomas_states=ee.Image('projects/mapbiomas-workspace/public/collection4_1/mapbiomas_collection41_integration_v1')\n",
    "states_mask = mapbiomas_states.mask()\n",
    "\n",
    "#Define function to convert hierarchical legend to simplest form\n",
    "def simplify_legend(bandName):\n",
    "    simplify = mapbiomas_states.expression(\n",
    "        '(b0 >=1)  && (b0<10) ? 1 :'+\n",
    "        '((b0>=10) && (b0<14)) || (b0==32) || (b0==29) ? 2 :'+\n",
    "        '((b0>=18) && (b0<22)) || ((b0>=14)&&(b0<16)) ? 3 :'+\n",
    "        '((b0>=22) && (b0<26)) || (b0==30) ? 4 :'+\n",
    "        '(b0==26) || (b0==33) || (b0==31) ? 5 : 6', \n",
    "        {\n",
    "          'b0': mapbiomas_states.select([bandName])\n",
    "        })\n",
    "    simplify = simplify.select(['constant'],[bandName])\n",
    "    return simplify\n",
    "\n",
    "#Select bands we are interested in\n",
    "bandList = ['classification_1985', 'classification_1986', 'classification_1987', 'classification_1988', \n",
    "             'classification_1989', 'classification_1990', 'classification_1991', 'classification_1992', \n",
    "             'classification_1993', 'classification_1994', 'classification_1995', 'classification_1996', \n",
    "             'classification_1997', 'classification_1998', 'classification_1999', 'classification_2000', \n",
    "             'classification_2001', 'classification_2002', 'classification_2003', 'classification_2004', \n",
    "             'classification_2005', 'classification_2006', 'classification_2007', 'classification_2008', \n",
    "             'classification_2009', 'classification_2010', 'classification_2011', 'classification_2012', \n",
    "             'classification_2013', 'classification_2014', 'classification_2015', 'classification_2016', \n",
    "             'classification_2017', 'classification_2018']\n",
    "bandsEEList = ee.List(bandList) \n",
    "states_simple = ee.ImageCollection(bandsEEList.map(simplify_legend)).toBands()\n",
    "states_simple = states_simple.select(states_simple.bandNames(),bandsEEList)\n",
    "states_simple = states_simple.updateMask(states_mask)\n",
    "states_simple = states_simple.set(ee.Dictionary({'min_value':1,'max_value':5}))\n",
    "#states_simple is now an iamge where each band corresponds to the land cover class for the band name year\n",
    "\n",
    "#Map one year to check it out!\n",
    "Map1 = geemap.Map(center=[-9,-51], zoom=4)\n",
    "Map1.addLayer(mapbiomas_states.select('classification_2018'),statesViz,name='Original MapBiomas')\n",
    "Map1.addLayer(states_simple.select('classification_2018'),simpleStatesViz,name='Simplified MapBiomas')\n",
    "display(Map1)\n"
   ]
  },
  {
   "cell_type": "code",
   "execution_count": 4,
   "metadata": {},
   "outputs": [
    {
     "name": "stdout",
     "output_type": "stream",
     "text": [
      "EPSG:4326 [0.0002694945852358564, 0, -74.54381924374933, 0, -0.0002694945852358564, 6.792611020869763] 29.999999999999996\n"
     ]
    }
   ],
   "source": [
    "#Save 30 meter projection\n",
    "#Save 30 meter projection\n",
    "projection_30m = mapbiomas_states.projection().getInfo()\n",
    "crs = projection_30m.get('crs')\n",
    "crsTransform = projection_30m.get('transform')\n",
    "scale = mapbiomas_states.projection().nominalScale().getInfo()\n",
    "print(crs, crsTransform,scale)\n"
   ]
  },
  {
   "cell_type": "code",
   "execution_count": 5,
   "metadata": {},
   "outputs": [],
   "source": [
    "#Convert long band names to short band names\n",
    "intBandNames = ['1985', '1986', '1987', '1988', '1989', '1990', '1991', '1992', '1993', '1994', '1995', '1996', \n",
    "             '1997', '1998', '1999', '2000', '2001', '2002', '2003', '2004',  '2005', '2006', '2007', '2008', \n",
    "             '2009', '2010', '2011', '2012','2013', '2014', '2015', '2016', '2017', '2018']\n",
    "\n",
    "states_simple = states_simple.select(bandList,intBandNames)\n"
   ]
  },
  {
   "cell_type": "code",
   "execution_count": 6,
   "metadata": {},
   "outputs": [],
   "source": [
    "\n",
    "#Image bands must be ordered by increasing years\n",
    "def get_year_stack_image_collection(image, band_names, band_indices=[-1,0,1]):\n",
    "    '''\n",
    "    Function returns image collection of images where each band is taken from the band_indices. If inputted bands do\n",
    "                do not follow the band indices, that image will not be returned. \n",
    "                For example if one band index is less than 0, an image for the first band will not be returned\n",
    "                because there is not a band corresponding to that index.\n",
    "    Inputs:\n",
    "        image: image where each band represents the land cover classification for a year, bands ordered by \n",
    "                increasing years\n",
    "        band_names: list of band names in the image\n",
    "        band_indices: list of indices you want to collect from the image, the default [-1,0,1] will return an \n",
    "                image collection where each image will have the bands [previous year, current year, following year]\n",
    "    Returns:\n",
    "        out_image_list: an image collection where each image corresponds to a band in band_names, where the bands \n",
    "                of the image correspond to the band_indices input\n",
    "                \n",
    "    Example:\n",
    "        Inputs:\n",
    "            image = image of land cover classification for years [1986,1987,1988,1989]\n",
    "            band_names = [1986,1987,1988,1989]\n",
    "            band_indices = [-1,0,1]\n",
    "        Returns:\n",
    "            out_image_list = image collection with the following images:\n",
    "                image 1: bands: [1986,1987,1988], property {'OriginalBand': 1987}\n",
    "                image 2: bands: [1987,1988,1989], property {'OriginalBand': 1988}\n",
    "            (an image for 1986 is not included because there is not a year before 1986,\n",
    "             and an image for 1989 is not included because there is not a year after 1989)\n",
    "    '''\n",
    "    out_image_list = []\n",
    "    for i,band_name in enumerate(band_names):\n",
    "        #indices = i_\n",
    "        if all(np.array([int(i+x) for x in band_indices])>=0):\n",
    "            try:\n",
    "                band_list = [band_names[i+x] for x in band_indices]\n",
    "                out_image = ee.Image.cat(image.select(band_list))\n",
    "                out_image = out_image.set(ee.Dictionary({'OriginalBand':band_name}))\n",
    "                out_image_list.append(out_image)\n",
    "            except:\n",
    "                None\n",
    "    \n",
    "    return ee.ImageCollection(out_image_list)\n"
   ]
  },
  {
   "cell_type": "code",
   "execution_count": 7,
   "metadata": {},
   "outputs": [],
   "source": [
    "#Functions for binary land cover change properties\n",
    "def lc_one_change(image):\n",
    "    '''\n",
    "    Determines if there was one change occurance from year i to year i+1. Returns an image with values:\n",
    "    1 if state(i) != state(i+1)\n",
    "    0 if state(i) == state(i+1)\n",
    "    '''\n",
    "    band_names = image.bandNames()\n",
    "    out_image = image.select([band_names.get(0)]).neq(image.select([band_names.get(1)]))\n",
    "    out_image = out_image.select(out_image.bandNames(),[band_names.get(0)])\n",
    "    out_image = out_image.set(ee.Dictionary({'OriginalBand':band_names.get(0)}))\n",
    "    return out_image\n",
    "\n",
    "def lc_consistent_change_one_year(image):\n",
    "    '''\n",
    "    Determines if change that occured from i to i+1 stayed in i+2\n",
    "    1 if state(i) != state(i+1) and state(i+1) == state(i+2)\n",
    "    0 otherwise\n",
    "    '''\n",
    "    band_names = image.bandNames()\n",
    "    current_year = image.select([band_names.get(0)])\n",
    "    next_year = image.select([band_names.get(1)])\n",
    "    next_next_year = image.select([band_names.get(2)])\n",
    "    \n",
    "    changed = current_year.neq(next_year)\n",
    "    stayed = next_year.eq(next_next_year)\n",
    "    \n",
    "    out_image = changed.bitwise_and(stayed)\n",
    "    out_image = out_image.select(out_image.bandNames(),[band_names.get(0)])\n",
    "    out_image = out_image.set(ee.Dictionary({'OriginalBand':band_names.get(0)}))\n",
    "    return out_image\n",
    "\n",
    "def lc_consistent_change_two_years(image):\n",
    "    '''\n",
    "    Determines if change that occured from i to i+1 stayed in i+2 and i+3\n",
    "    1 if state(i) != state(i+1) and state(i+1) == state(i+2) and state(i+1) == state(i+3)\n",
    "    0 otherwise\n",
    "    '''\n",
    "    band_names = image.bandNames()\n",
    "    current_year = image.select([band_names.get(0)])\n",
    "    next_year = image.select([band_names.get(1)])\n",
    "    next_next_year = image.select([band_names.get(2)])\n",
    "    next_next_next_year = image.select([band_names.get(3)])\n",
    "    \n",
    "    changed = current_year.neq(next_year)\n",
    "    stayed = next_year.eq(next_next_year)\n",
    "    stayed_again = next_year.eq(next_next_next_year)\n",
    "    \n",
    "    out_image = changed.bitwise_and(stayed.bitwise_and(stayed_again))\n",
    "    out_image = out_image.select(out_image.bandNames(),[band_names.get(0)])\n",
    "    out_image = out_image.set(ee.Dictionary({'OriginalBand':band_names.get(0)}))\n",
    "    return out_image\n"
   ]
  },
  {
   "cell_type": "code",
   "execution_count": 12,
   "metadata": {},
   "outputs": [],
   "source": [
    "#Apply land cover change functions to images, first returns an image collection then converted to image\n",
    "#where each band represents one year\n",
    "lc_one_change_col = get_year_stack_image_collection(states_simple,states_simple.bandNames().getInfo(), band_indices=[0,1])\n",
    "lc_one_change_col = lc_one_change_col.map(lc_one_change)\n",
    "lc_one_change_image = lc_one_change_col.toBands()\n",
    "lc_one_change_image = lc_one_change_image.select(lc_one_change_image.bandNames(),lc_one_change_col.aggregate_array('OriginalBand'))\n",
    "\n",
    "lc_consistent_change_two_years_col = get_year_stack_image_collection(states_simple,states_simple.bandNames().getInfo(), band_indices=[0,1,2,3])\n",
    "lc_consistent_change_two_years_col = lc_consistent_change_two_years_col.map(lc_consistent_change_two_years)\n",
    "lc_consistent_change_two_years_image = lc_consistent_change_two_years_col.toBands()\n",
    "lc_consistent_change_two_years_image = lc_consistent_change_two_years_image.select(lc_consistent_change_two_years_image.bandNames(), lc_consistent_change_two_years_col.aggregate_array('OriginalBand'))\n",
    "\n",
    "#lc_one_change_image = binary image representing if change occured in that pixel over the entire period\n",
    "#lc_consistent_change_two_years_image = binary image representing if consistent change occured in that pixel over the entire period\n",
    "\n"
   ]
  },
  {
   "cell_type": "code",
   "execution_count": 13,
   "metadata": {},
   "outputs": [
    {
     "data": {
      "application/vnd.jupyter.widget-view+json": {
       "model_id": "2c4309cc01f3414cbd18adadadc4d069",
       "version_major": 2,
       "version_minor": 0
      },
      "text/plain": [
       "Map(center=[-9, -51], controls=(WidgetControl(options=['position'], widget=HBox(children=(ToggleButton(value=F…"
      ]
     },
     "metadata": {},
     "output_type": "display_data"
    }
   ],
   "source": [
    "#Mapchange layer for one year to test if it works\n",
    "Map2 = geemap.Map(center=[-9,-51], zoom=4)\n",
    "Map2.addLayer(lc_one_change_image.select(['1990']),changeDetectionViz,name='1990 One Change')\n",
    "Map2.addLayer(states_simple.select(['1990']),simpleStatesViz,name='1990')\n",
    "Map2.addLayer(states_simple.select(['1991']),simpleStatesViz,name='1991')\n",
    "display(Map2)\n"
   ]
  },
  {
   "cell_type": "code",
   "execution_count": 14,
   "metadata": {},
   "outputs": [
    {
     "data": {
      "application/vnd.jupyter.widget-view+json": {
       "model_id": "e17ffdd342294632800d39bf76a1a2a1",
       "version_major": 2,
       "version_minor": 0
      },
      "text/plain": [
       "Map(center=[-9, -51], controls=(WidgetControl(options=['position'], widget=HBox(children=(ToggleButton(value=F…"
      ]
     },
     "metadata": {},
     "output_type": "display_data"
    }
   ],
   "source": [
    "#Map consistent change layer for one year to test if it works\n",
    "Map2 = geemap.Map(center=[-9,-51], zoom=4)\n",
    "Map2.addLayer(lc_consistent_change_two_years_image.select(['1990']),changeDetectionViz,name='1990 Consistent Change')\n",
    "Map2.addLayer(states_simple.select(['1990']),simpleStatesViz,name='1990')\n",
    "Map2.addLayer(states_simple.select(['1991']),simpleStatesViz,name='1991')\n",
    "Map2.addLayer(states_simple.select(['1992']),simpleStatesViz,name='1992')\n",
    "display(Map2)"
   ]
  },
  {
   "cell_type": "code",
   "execution_count": 15,
   "metadata": {},
   "outputs": [],
   "source": [
    "#Mask Change images\n",
    "lc_one_change_image_masked = lc_one_change_image.selfMask()\n",
    "lc_consistent_change_two_years_image_masked = lc_consistent_change_two_years_image.selfMask()\n"
   ]
  },
  {
   "cell_type": "code",
   "execution_count": 17,
   "metadata": {},
   "outputs": [
    {
     "name": "stdout",
     "output_type": "stream",
     "text": [
      "{'type': 'Image', 'bands': [{'id': '1985', 'data_type': {'type': 'PixelType', 'precision': 'int', 'min': 1, 'max': 6}, 'crs': 'EPSG:4326', 'crs_transform': [1, 0, 0, 0, 1, 0]}, {'id': '1986', 'data_type': {'type': 'PixelType', 'precision': 'int', 'min': 1, 'max': 6}, 'crs': 'EPSG:4326', 'crs_transform': [1, 0, 0, 0, 1, 0]}], 'properties': {'min_value': 1, 'OriginalBand': '1985', 'max_value': 5, 'system:index': '0'}}\n"
     ]
    }
   ],
   "source": [
    "#Build current state and year after state collection, one image for each year\n",
    "#First band represents the current year's state, second band represents the year after's state\n",
    "transitions_collection = get_year_stack_image_collection(states_simple,states_simple.bandNames().getInfo(), band_indices=[0,1])\n",
    "#Has property \"OriginalBand\" for the year of the current state (band 0)\n",
    "#Right now has default transform crs_transform': [1, 0, 0, 0, 1, 0], so in sampling the image you have to \n",
    "#specify the projection adn resolution\n"
   ]
  },
  {
   "cell_type": "code",
   "execution_count": 18,
   "metadata": {},
   "outputs": [],
   "source": [
    "#Function to sample image data at point locations (sampleBandPoints) and rename new property to image_name\n",
    "def getSampleImageData(image, sampleBandPoints, image_name, crs, crsTransform):\n",
    "    #Sample image data at point locations\n",
    "    sampleImageData = image.reduceRegions(\n",
    "        collection=sampleBandPoints,\n",
    "        reducer=ee.Reducer.first(),\n",
    "        crs=crs,\n",
    "        crsTransform=crsTransform\n",
    "        )\n",
    "    #Rename sampled values from \"first\" to image_name\n",
    "    sampleImageData = sampleImageData.map(lambda x: x.set({image_name:x.get('first')}))\n",
    "    return sampleImageData\n",
    "\n"
   ]
  },
  {
   "cell_type": "code",
   "execution_count": null,
   "metadata": {},
   "outputs": [],
   "source": [
    "#Code below to export feature collection to drive, if you get an error that the task is too large,\n",
    "#try to break up the feature collection into chunks\n",
    "\n",
    "# export_sample_points_task = ee.batch.Export.table.toDrive(\n",
    "#     collection=out_feature_collection, \n",
    "#     description = \"Training_Set_with_Covariates_10K_{}\".format(i), \n",
    "#     fileNamePrefix = 'Training_Set_with_Covariates_10K_{}'.format(i),\n",
    "#     folder = 'Dynamic World')\n",
    "\n",
    "#     export_sample_points_task.start()\n",
    "#     print(export_sample_points_task)"
   ]
  }
 ],
 "metadata": {
  "kernelspec": {
   "display_name": "Python 3",
   "language": "python",
   "name": "python3"
  },
  "language_info": {
   "codemirror_mode": {
    "name": "ipython",
    "version": 3
   },
   "file_extension": ".py",
   "mimetype": "text/x-python",
   "name": "python",
   "nbconvert_exporter": "python",
   "pygments_lexer": "ipython3",
   "version": "3.6.8"
  }
 },
 "nbformat": 4,
 "nbformat_minor": 2
}
