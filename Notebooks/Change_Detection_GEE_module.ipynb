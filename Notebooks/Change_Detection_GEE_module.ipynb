{
 "cells": [
  {
   "cell_type": "code",
   "execution_count": 1,
   "metadata": {},
   "outputs": [],
   "source": [
    "#Import necessary libraries\n",
    "import os\n",
    "import ee\n",
    "import geemap\n",
    "import ipyleaflet\n",
    "import matplotlib.pyplot as plt\n",
    "import numpy as np\n",
    "import sklearn\n",
    "import statsmodels.api as sm\n",
    "import pandas as pd\n",
    "from IPython.display import HTML, display\n",
    "import random\n",
    "import json\n",
    "import time\n",
    "import neighborhood_predictor_variables\n",
    "import gee_classifiers\n",
    "num_seed=30\n",
    "random.seed(num_seed)"
   ]
  },
  {
   "cell_type": "code",
   "execution_count": 2,
   "metadata": {},
   "outputs": [],
   "source": [
    "#Initialize earth engine\n",
    "ee.Initialize()\n"
   ]
  },
  {
   "cell_type": "code",
   "execution_count": 3,
   "metadata": {},
   "outputs": [
    {
     "data": {
      "application/vnd.jupyter.widget-view+json": {
       "model_id": "b27ef995305445bcb918dd7f4470c2f9",
       "version_major": 2,
       "version_minor": 0
      },
      "text/plain": [
       "Map(center=[-9, -51], controls=(WidgetControl(options=['position'], widget=HBox(children=(ToggleButton(value=F…"
      ]
     },
     "metadata": {},
     "output_type": "display_data"
    }
   ],
   "source": [
    "#Define functions for mapping MapBiomas and simplifying the legend\n",
    "coverage_palette =  ['ffffff', '129912', '1f4423', '006400', '00ff00', '687537', '76a5af', '29eee4', \n",
    "                     '77a605', '935132', 'bbfcac', '45c2a5', 'b8af4f', 'f1c232', 'ffffb2', 'ffd966', \n",
    "                     'f6b26b', 'f99f40', 'e974ed', 'd5a6bd', 'c27ba0', 'fff3bf', 'ea9999', 'dd7e6b', \n",
    "                     'aa0000', 'ff99ff', '0000ff', 'd5d5e5', 'dd497f', 'b2ae7c', 'af2a2a', '8a2be2', \n",
    "                     '968c46', '0000ff', '4fd3ff']\n",
    "\n",
    "\n",
    "simple_palette = ['129912','BBFCAC','FFFFB2','EA9999','0000FF','D5D5E5']\n",
    "statesViz = {'min': 0, 'max': 34, 'palette': coverage_palette};\n",
    "simpleStatesViz = {'min': 1, 'max': 6, 'palette': simple_palette};\n",
    "\n",
    "change_detection_palette = ['df07b5','0741df']\n",
    "changeDetectionViz = {'min': 0, 'max': 1, 'palette': change_detection_palette};\n",
    "\n",
    "#Load in mapbiomas\n",
    "mapbiomas_states=ee.Image('projects/mapbiomas-workspace/public/collection4_1/mapbiomas_collection41_integration_v1')\n",
    "states_mask = mapbiomas_states.mask()\n",
    "\n",
    "#Define function to convert hierarchical legend to simplest form\n",
    "def simplify_legend(bandName):\n",
    "    simplify = mapbiomas_states.expression(\n",
    "        '(b0 >=1)  && (b0<10) ? 1 :'+\n",
    "        '((b0>=10) && (b0<14)) || (b0==32) || (b0==29) ? 2 :'+\n",
    "        '((b0>=18) && (b0<22)) || ((b0>=14)&&(b0<16)) ? 3 :'+\n",
    "        '((b0>=22) && (b0<26)) || (b0==30) ? 4 :'+\n",
    "        '(b0==26) || (b0==33) || (b0==31) ? 5 : 6', \n",
    "        {\n",
    "          'b0': mapbiomas_states.select([bandName])\n",
    "        })\n",
    "    simplify = simplify.select(['constant'],[bandName])\n",
    "    return simplify\n",
    "\n",
    "#Select bands we are interested in\n",
    "bandList = ['classification_1985', 'classification_1986', 'classification_1987', 'classification_1988', \n",
    "             'classification_1989', 'classification_1990', 'classification_1991', 'classification_1992', \n",
    "             'classification_1993', 'classification_1994', 'classification_1995', 'classification_1996', \n",
    "             'classification_1997', 'classification_1998', 'classification_1999', 'classification_2000', \n",
    "             'classification_2001', 'classification_2002', 'classification_2003', 'classification_2004', \n",
    "             'classification_2005', 'classification_2006', 'classification_2007', 'classification_2008', \n",
    "             'classification_2009', 'classification_2010', 'classification_2011', 'classification_2012', \n",
    "             'classification_2013', 'classification_2014', 'classification_2015', 'classification_2016', \n",
    "             'classification_2017', 'classification_2018']\n",
    "bandsEEList = ee.List(bandList) \n",
    "states_simple = ee.ImageCollection(bandsEEList.map(simplify_legend)).toBands()\n",
    "states_simple = states_simple.select(states_simple.bandNames(),bandsEEList)\n",
    "states_simple = states_simple.updateMask(states_mask)\n",
    "states_simple = states_simple.set(ee.Dictionary({'min_value':1,'max_value':5}))\n",
    "#states_simple is now an iamge where each band corresponds to the land cover class for the band name year\n",
    "\n",
    "#Map one year to check it out!\n",
    "Map1 = geemap.Map(center=[-9,-51], zoom=4)\n",
    "Map1.addLayer(mapbiomas_states.select('classification_2018'),statesViz,name='Original MapBiomas')\n",
    "Map1.addLayer(states_simple.select('classification_2018'),simpleStatesViz,name='Simplified MapBiomas')\n",
    "display(Map1)\n"
   ]
  },
  {
   "cell_type": "code",
   "execution_count": 4,
   "metadata": {},
   "outputs": [
    {
     "name": "stdout",
     "output_type": "stream",
     "text": [
      "EPSG:4326 [0.0002694945852358564, 0, -74.54381924374933, 0, -0.0002694945852358564, 6.792611020869763]\n"
     ]
    }
   ],
   "source": [
    "#Save 30 meter projection\n",
    "#Save 30 meter projection\n",
    "projection_30m = mapbiomas_states.projection().getInfo()\n",
    "crs = projection_30m.get('crs')\n",
    "crsTransform = projection_30m.get('transform')\n",
    "print(crs, crsTransform)\n"
   ]
  },
  {
   "cell_type": "code",
   "execution_count": 5,
   "metadata": {},
   "outputs": [],
   "source": [
    "#Convert long band names to short band names\n",
    "intBandNames = ['1985', '1986', '1987', '1988', '1989', '1990', '1991', '1992', '1993', '1994', '1995', '1996', \n",
    "             '1997', '1998', '1999', '2000', '2001', '2002', '2003', '2004',  '2005', '2006', '2007', '2008', \n",
    "             '2009', '2010', '2011', '2012','2013', '2014', '2015', '2016', '2017', '2018']\n",
    "\n",
    "states_simple = states_simple.select(bandList,intBandNames)\n"
   ]
  },
  {
   "cell_type": "code",
   "execution_count": 6,
   "metadata": {},
   "outputs": [],
   "source": [
    "#Apply land cover change functions to images, first returns an image collection then converted to image\n",
    "#where each band represents one year\n",
    "lc_one_change_col = neighborhood_predictor_variables.get_year_stack_image_collection(\n",
    "                                                                                states_simple,\n",
    "                                                                                states_simple.bandNames().getInfo(), \n",
    "                                                                                band_indices=[0,1])\n",
    "lc_one_change_col = lc_one_change_col.map(neighborhood_predictor_variables.lc_one_change)\n",
    "lc_one_change_image = lc_one_change_col.toBands()\n",
    "lc_one_change_image = lc_one_change_image.select(lc_one_change_image.bandNames(),\n",
    "                                                 lc_one_change_col.aggregate_array('OriginalBand'))\n",
    "\n",
    "lc_no_change_col = neighborhood_predictor_variables.get_year_stack_image_collection(\n",
    "                                                                                states_simple,\n",
    "                                                                                states_simple.bandNames().getInfo(), \n",
    "                                                                                band_indices=[0,1])\n",
    "lc_no_change_col = lc_no_change_col.map(neighborhood_predictor_variables.lc_no_change)\n",
    "lc_no_change_image = lc_no_change_col.toBands()\n",
    "lc_no_change_image = lc_no_change_image.select(lc_no_change_image.bandNames(),\n",
    "                                               lc_no_change_col.aggregate_array('OriginalBand'))\n",
    "\n",
    "lc_reversed_col = neighborhood_predictor_variables.get_year_stack_image_collection(\n",
    "                                                                            states_simple,\n",
    "                                                                            states_simple.bandNames().getInfo(), \n",
    "                                                                            band_indices=[0,1,2])\n",
    "lc_reversed_col = lc_reversed_col.map(neighborhood_predictor_variables.lc_reverse)\n",
    "lc_reversed_image = lc_reversed_col.toBands()\n",
    "lc_reversed_image = lc_reversed_image.select(lc_reversed_image.bandNames(), \n",
    "                                             lc_reversed_col.aggregate_array('OriginalBand'))\n",
    "\n",
    "lc_changed_to_another_col = neighborhood_predictor_variables.get_year_stack_image_collection(\n",
    "                                                                            states_simple,\n",
    "                                                                            states_simple.bandNames().getInfo(), \n",
    "                                                                            band_indices=[0,1,2])\n",
    "lc_changed_to_another_col = lc_changed_to_another_col.map(neighborhood_predictor_variables.lc_change_to_another)\n",
    "lc_changed_to_another_image = lc_changed_to_another_col.toBands()\n",
    "lc_changed_to_another_image = lc_changed_to_another_image.select(\n",
    "                                                        lc_changed_to_another_image.bandNames(), \n",
    "                                                        lc_changed_to_another_col.aggregate_array('OriginalBand'))\n",
    "\n",
    "lc_consistent_change_one_year_col = neighborhood_predictor_variables.get_year_stack_image_collection(\n",
    "                                                                        states_simple,\n",
    "                                                                        states_simple.bandNames().getInfo(), \n",
    "                                                                        band_indices=[0,1,2])\n",
    "lc_consistent_change_one_year_col = lc_consistent_change_one_year_col.map(\n",
    "                                        neighborhood_predictor_variables.lc_consistent_change_one_year)\n",
    "lc_consistent_change_one_year_image = lc_consistent_change_one_year_col.toBands()\n",
    "lc_consistent_change_one_year_image = lc_consistent_change_one_year_image.select(\n",
    "                                        lc_consistent_change_one_year_image.bandNames(), \n",
    "                                        lc_consistent_change_one_year_col.aggregate_array('OriginalBand'))\n",
    "\n",
    "lc_consistent_change_two_years_col = neighborhood_predictor_variables.get_year_stack_image_collection(\n",
    "                                                                        states_simple,\n",
    "                                                                        states_simple.bandNames().getInfo(), \n",
    "                                                                        band_indices=[0,1,2,3])\n",
    "lc_consistent_change_two_years_col = lc_consistent_change_two_years_col.map(\n",
    "                                        neighborhood_predictor_variables.lc_consistent_change_two_years)\n",
    "lc_consistent_change_two_years_image = lc_consistent_change_two_years_col.toBands()\n",
    "lc_consistent_change_two_years_image = lc_consistent_change_two_years_image.select(\n",
    "                                        lc_consistent_change_two_years_image.bandNames(), \n",
    "                                        lc_consistent_change_two_years_col.aggregate_array('OriginalBand'))\n",
    "\n",
    "lc_year_after_col = neighborhood_predictor_variables.get_year_stack_image_collection(\n",
    "                                                        states_simple,\n",
    "                                                        states_simple.bandNames().getInfo(), \n",
    "                                                        band_indices=[0,1])\n",
    "lc_year_after_col = lc_year_after_col.map(neighborhood_predictor_variables.lc_year_after)\n",
    "lc_year_after_image = lc_year_after_col.toBands()\n",
    "lc_year_after_image = lc_year_after_image.select(lc_year_after_image.bandNames(), \n",
    "                                                 lc_year_after_col.aggregate_array('OriginalBand'))\n",
    "\n",
    "year_image = ee.ImageCollection(lc_consistent_change_two_years_image.bandNames().map(\n",
    "                                    lambda x: ee.Image.constant(ee.Number.parse(x)).updateMask(\n",
    "                                    lc_one_change_image.select([x])))).toBands()\n",
    "year_image = year_image.rename(lc_consistent_change_two_years_image.bandNames())\n",
    "\n",
    "states_simple_masked = states_simple.select(lc_one_change_image.bandNames()).bandNames().map(\n",
    "                                            lambda x: states_simple.select([x]).updateMask(\n",
    "                                                lc_one_change_image.select([x])))\n",
    "states_simple_masked = ee.ImageCollection(states_simple_masked).toBands()\n",
    "states_simple_masked = states_simple_masked.rename(lc_one_change_image.bandNames().getInfo())\n",
    "\n"
   ]
  },
  {
   "cell_type": "code",
   "execution_count": 7,
   "metadata": {},
   "outputs": [],
   "source": [
    "#print(year_image.bandNames().getInfo())"
   ]
  },
  {
   "cell_type": "code",
   "execution_count": 8,
   "metadata": {},
   "outputs": [],
   "source": [
    "#Define kernel for neighborhood\n",
    "kernel = ee.Kernel.fixed(3,3,\n",
    "                         [[1,1,1],\n",
    "                          [1,0,1],\n",
    "                          [1,1,1]]\n",
    "                          ,1,1)\n",
    "\n",
    "#Other kernel options commented below:\n",
    "kernel = ee.Kernel.gaussian(radius=1000, units='meters', sigma=1000)\n",
    "\n",
    "kernel = ee.Kernel.circle(radius=17, units='pixels')\n",
    "kernel = ee.Kernel.square(radius=1.5, units='pixels')"
   ]
  },
  {
   "cell_type": "code",
   "execution_count": 9,
   "metadata": {},
   "outputs": [],
   "source": [
    "#Get neighborhood information on pixels\n",
    "states_lc_no_change_neighbors = lc_no_change_image.convolve(kernel)\n",
    "states_lc_one_change_neighbors = lc_one_change_image.convolve(kernel)\n",
    "states_lc_reverse_neighbors = lc_reversed_image.convolve(kernel)\n",
    "states_lc_change_to_another_neighbors = lc_changed_to_another_image.convolve(kernel)\n",
    "states_lc_consistent_change_one_year_neighbors = lc_consistent_change_one_year_image.convolve(kernel)\n",
    "states_lc_consistent_change_two_years_neighbors = lc_consistent_change_two_years_image.convolve(kernel)\n"
   ]
  },
  {
   "cell_type": "code",
   "execution_count": 10,
   "metadata": {},
   "outputs": [],
   "source": [
    "#Define list of images and the corresponding names (which will be used as column names) to sample for covariates\n",
    "image_list = [lc_consistent_change_two_years_image,\n",
    "              lc_one_change_image,\n",
    "              year_image,\n",
    "              states_simple_masked, \n",
    "              lc_year_after_image,\n",
    "              states_lc_no_change_neighbors,\n",
    "              states_lc_one_change_neighbors,\n",
    "              states_lc_reverse_neighbors,\n",
    "              states_lc_change_to_another_neighbors,\n",
    "              states_lc_consistent_change_one_year_neighbors]\n",
    "\n",
    "image_name_list = ['consistent_change',\n",
    "                   'change_occurred',\n",
    "                   'year',\n",
    "                   'current_state',\n",
    "                   'year_after_state',\n",
    "                   'no_lc_change_neighbors',\n",
    "                   'one_lc_change_neighbors',\n",
    "                   'lc_reverse_neighbors',\n",
    "                   'lc_change_to_another_neighbors',\n",
    "                   'lc_consistent_change_one_year_neighbors']\n",
    "\n",
    "covariate_image_collection = ee.ImageCollection(image_list)\n",
    "#Reproject images to original reprojection\n",
    "#image_list = [x.reproject(crs=crs,crsTransform=crsTransform) for x in image_list]\n"
   ]
  },
  {
   "cell_type": "code",
   "execution_count": 11,
   "metadata": {},
   "outputs": [],
   "source": [
    "training_points = ee.FeatureCollection('projects/wri-datalab/DynamicWorld_CD/Training_points_20200708')\n",
    "validation_points = ee.FeatureCollection('projects/wri-datalab/DynamicWorld_CD/Validation_points_20200708')\n",
    "predictors = ['current_state', 'lc_change_to_another_neighbors', \n",
    "              'lc_consistent_change_one_year_neighbors', \n",
    "              'lc_reverse_neighbors', 'no_lc_change_neighbors', 'one_lc_change_neighbors', \n",
    "              'year_after_state']\n",
    "one_hot_features = ['current_state','year_after_state']\n",
    "y_column = 'consistent_change'\n",
    "xy = ['longitude','latitude']\n"
   ]
  },
  {
   "cell_type": "code",
   "execution_count": null,
   "metadata": {},
   "outputs": [],
   "source": []
  },
  {
   "cell_type": "code",
   "execution_count": 12,
   "metadata": {},
   "outputs": [
    {
     "name": "stdout",
     "output_type": "stream",
     "text": [
      "RF accuracy:  0.9330085261875761\n",
      "                Predicted_False  Predicted_True\n",
      "_                                              \n",
      "Observed_False              474             350\n",
      "Observed_True                35            4888\n"
     ]
    }
   ],
   "source": [
    "#ee.Classifier.smileRandomForest(numberOfTrees, variablesPerSplit, minLeafPopulation, bagFraction, maxNodes, seed)\n",
    "rf_classifier = gee_classifiers.train_rf_classifier(training_points, y_column, predictors)\n",
    "print('RF accuracy: ', rf_classifier.confusionMatrix().accuracy().getInfo())\n",
    "print(gee_classifiers.pretty_print_confusion_matrix(rf_classifier))\n",
    "\n",
    "\n"
   ]
  },
  {
   "cell_type": "code",
   "execution_count": 13,
   "metadata": {},
   "outputs": [],
   "source": [
    "image_stack_2015 = covariate_image_collection.map(lambda x: x.select('2015')).toBands()\n",
    "image_stack_2015 = image_stack_2015.rename(image_name_list)\n",
    "image_stack_2015 = image_stack_2015.reproject(crs=crs,crsTransform=crsTransform)\n",
    "\n",
    "covar_image_stack_2015 = image_stack_2015.select(predictors)\n",
    "classified_image_2015 = covar_image_stack_2015.classify(rf_classifier)\n"
   ]
  },
  {
   "cell_type": "code",
   "execution_count": 14,
   "metadata": {},
   "outputs": [
    {
     "data": {
      "application/vnd.jupyter.widget-view+json": {
       "model_id": "e780bf9dbabd42688a31f44092ef27c9",
       "version_major": 2,
       "version_minor": 0
      },
      "text/plain": [
       "Map(center=[-9, -51], controls=(WidgetControl(options=['position'], widget=HBox(children=(ToggleButton(value=F…"
      ]
     },
     "metadata": {},
     "output_type": "display_data"
    }
   ],
   "source": [
    "#Map consistent change layer for one year to test if it works\n",
    "Map3 = geemap.Map(center=[-9,-51], zoom=10)\n",
    "Map3.addLayer(lc_consistent_change_two_years_image.updateMask(\n",
    "                image_stack_2015.select('change_occurred')).select(['2015']),\n",
    "                changeDetectionViz,name='2015 Consistent Change')\n",
    "Map3.addLayer(classified_image_2015,changeDetectionViz,name='2015 Predicted')\n",
    "display(Map3)\n"
   ]
  },
  {
   "cell_type": "code",
   "execution_count": null,
   "metadata": {},
   "outputs": [],
   "source": []
  },
  {
   "cell_type": "code",
   "execution_count": null,
   "metadata": {},
   "outputs": [],
   "source": []
  },
  {
   "cell_type": "code",
   "execution_count": null,
   "metadata": {},
   "outputs": [],
   "source": []
  },
  {
   "cell_type": "code",
   "execution_count": null,
   "metadata": {},
   "outputs": [],
   "source": []
  },
  {
   "cell_type": "code",
   "execution_count": null,
   "metadata": {},
   "outputs": [],
   "source": []
  },
  {
   "cell_type": "code",
   "execution_count": null,
   "metadata": {},
   "outputs": [],
   "source": []
  }
 ],
 "metadata": {
  "kernelspec": {
   "display_name": "Python 3",
   "language": "python",
   "name": "python3"
  },
  "language_info": {
   "codemirror_mode": {
    "name": "ipython",
    "version": 3
   },
   "file_extension": ".py",
   "mimetype": "text/x-python",
   "name": "python",
   "nbconvert_exporter": "python",
   "pygments_lexer": "ipython3",
   "version": "3.6.8"
  }
 },
 "nbformat": 4,
 "nbformat_minor": 2
}
